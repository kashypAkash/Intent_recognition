{
 "cells": [
  {
   "cell_type": "code",
   "execution_count": 63,
   "metadata": {
    "collapsed": false
   },
   "outputs": [],
   "source": [
    "from sklearn.feature_extraction.text import TfidfVectorizer\n",
    "from sklearn.metrics import classification_report\n",
    "from sklearn import svm"
   ]
  },
  {
   "cell_type": "markdown",
   "metadata": {},
   "source": [
    "## Initializing training data and test data"
   ]
  },
  {
   "cell_type": "code",
   "execution_count": 64,
   "metadata": {
    "collapsed": false
   },
   "outputs": [],
   "source": [
    "training_corpus = [( \"how about a lunch?\", \"eat\"),\n",
    "                    ( \"up for a snack?\", \"eat\"),\n",
    "                    ( \"let's go out for a lunch\", \"eat\"),\n",
    "                    ( \"let's go for a bite\", \"eat\"),\n",
    "                    (\"Is it noon already? I want eat something\", \"eat\"),\n",
    "                    (\"Did you eat lunch today\", \"eat\"),\n",
    "                    (\"Do you like to eat beef?\", \"eat\"),\n",
    "                    (\"Do you like fruits?\", \"eat\"),\n",
    "                    (\"Do you eat lunch at school?\", \"eat\"),\n",
    "                    (\"Do you like to eat rice?\", \"eat\"),\n",
    "                    (\"Do you bring lunch to the school?\", \"eat\"),\n",
    "                    (\"Do you like Thai food?\", \"eat\"),\n",
    "                    (\"How about Chinese food?\", \"eat\"),\n",
    "                    (\"Will you say yes for Spanish food?\", \"eat\"),\n",
    "                    (\"Shall we have some French food?\", \"eat\"),\n",
    "                    (\"I love Italian food, how about you?\", \"eat\"),\n",
    "                    (\"How about indian food?\", \"eat\"),\n",
    "                    (\"Lets have mexican food\", \"eat\"),\n",
    "                    (\"Are you up for some wings?\", \"eat\"),\n",
    "                    (\"Would you like to have some food?\", \"eat\"),\n",
    "                    (\"would you like to go for a dinner today?\", \"eat\"),\n",
    "                    (\"What's your favorite junk food?\", \"eat\"),\n",
    "\n",
    "                    (\"Indian food is very spicy. I don't like spicy food\", \"noeat\"),\n",
    "                    (\"Most people hate mexican food because it is spicy\", \"noeat\"),\n",
    "                    (\"I really much preference toward spanish cuisine\", \"noeat\"),\n",
    "                    (\"It is not possible now\", \"noeat\"),\n",
    "                    (\"I have some urgent business\", \"noeat\"),\n",
    "                    (\"I'm in a meeting now.\", \"noeat\"),\n",
    "                    (\"I'm not in a mood to eat\", \"noeat\"),\n",
    "                    (\"I don't like chinese food\", \"noeat\"),\n",
    "                    (\"I don't like french cuisine\", \"noeat\"),\n",
    "                    (\"Italian cuisine is something I really hate\", \"noeat\"),\n",
    "                    ( \"i got some work to do\", \"noeat\"),\n",
    "                    ( \"i'm not hungry\", \"noeat\"),\n",
    "                    ( \"i'm full, someother time\", \"noeat\"),\n",
    "                    ( \"not now\", \"noeat\"),\n",
    "                    ( \"lets not eat\", \"noeat\"),\n",
    "                    ( \"I don't feel like eating\", \"noeat\"),\n",
    "                    ( \"I'm not hungry anymore\", \"noeat\"),\n",
    "                    ( \"I don't want to eat at this time\", \"noeat\"),\n",
    "                    ( \"I don't have appetite\", \"noeat\"),\n",
    "                    ( \"I am full right\", \"noeat\"),\n",
    "                    ( \"Sorry, I'm on a fast\", \"noeat\")]\n",
    "\n",
    "test_corpus = [(\"I dont like to eat right now\",\"noeat\"),\n",
    "                (\"I'm not in the mood to eat\",\"noeat\"),\n",
    "                (\"I have no intention of eating\",\"noeat\"),\n",
    "                (\"I just had my stomach full, so can't eat anything\",\"noeat\"),\n",
    "                (\"I have other tasks to do, sorry\",\"noeat\"),\n",
    "\n",
    "                (\"I heard a new lunch place, what say?\",\"eat\"),\n",
    "                (\"I would eat anything you feed\",\"eat\"),\n",
    "                (\"I'm super hungry right now\",\"eat\"),\n",
    "                (\"I would like to eat burrito\",\"eat\"),\n",
    "                (\"How about some snacks with coffee\",\"eat\")]           \n",
    "              "
   ]
  },
  {
   "cell_type": "code",
   "execution_count": 65,
   "metadata": {
    "collapsed": false
   },
   "outputs": [],
   "source": [
    "train_data = []\n",
    "train_labels = []\n",
    "for row in training_corpus:\n",
    "    train_data.append(row[0])\n",
    "    train_labels.append(row[1])\n"
   ]
  },
  {
   "cell_type": "markdown",
   "metadata": {},
   "source": [
    "## creating training and test labels"
   ]
  },
  {
   "cell_type": "code",
   "execution_count": 66,
   "metadata": {
    "collapsed": true
   },
   "outputs": [],
   "source": [
    "test_data = [] \n",
    "test_labels = [] \n",
    "for row in test_corpus:\n",
    "    test_data.append(row[0]) \n",
    "    test_labels.append(row[1])\n"
   ]
  },
  {
   "cell_type": "markdown",
   "metadata": {},
   "source": [
    "## creating a feature vectors"
   ]
  },
  {
   "cell_type": "code",
   "execution_count": 67,
   "metadata": {
    "collapsed": true
   },
   "outputs": [],
   "source": [
    "\n",
    "vectorizer = TfidfVectorizer(min_df=4, max_df=0.9)\n"
   ]
  },
  {
   "cell_type": "markdown",
   "metadata": {},
   "source": [
    "## Train the feature vectors\n"
   ]
  },
  {
   "cell_type": "code",
   "execution_count": 68,
   "metadata": {
    "collapsed": true
   },
   "outputs": [],
   "source": [
    "train_vectors = vectorizer.fit_transform(train_data)\n"
   ]
  },
  {
   "cell_type": "markdown",
   "metadata": {},
   "source": [
    "## Apply model on test data "
   ]
  },
  {
   "cell_type": "code",
   "execution_count": 69,
   "metadata": {
    "collapsed": true
   },
   "outputs": [],
   "source": [
    "\n",
    "test_vectors = vectorizer.transform(test_data)\n",
    "\n"
   ]
  },
  {
   "cell_type": "markdown",
   "metadata": {},
   "source": [
    "## Using linear kernel with support vector machines for classifying text for intent"
   ]
  },
  {
   "cell_type": "code",
   "execution_count": 70,
   "metadata": {
    "collapsed": true
   },
   "outputs": [],
   "source": [
    "model = svm.SVC(kernel='linear') "
   ]
  },
  {
   "cell_type": "code",
   "execution_count": 71,
   "metadata": {
    "collapsed": true
   },
   "outputs": [],
   "source": [
    "model.fit(train_vectors, train_labels) \n",
    "prediction = model.predict(test_vectors)"
   ]
  },
  {
   "cell_type": "code",
   "execution_count": 72,
   "metadata": {
    "collapsed": false
   },
   "outputs": [
    {
     "name": "stdout",
     "output_type": "stream",
     "text": [
      "             precision    recall  f1-score   support\n",
      "\n",
      "        eat       0.57      0.80      0.67         5\n",
      "      noeat       0.67      0.40      0.50         5\n",
      "\n",
      "avg / total       0.62      0.60      0.58        10\n",
      "\n"
     ]
    }
   ],
   "source": [
    "print (classification_report(test_labels, prediction))"
   ]
  },
  {
   "cell_type": "markdown",
   "metadata": {},
   "source": [
    "## Testing with Naive Bayes Classifier for intent classification"
   ]
  },
  {
   "cell_type": "code",
   "execution_count": 73,
   "metadata": {
    "collapsed": true
   },
   "outputs": [],
   "source": [
    "from textblob.classifiers import NaiveBayesClassifier as naive\n",
    "from textblob import TextBlob"
   ]
  },
  {
   "cell_type": "markdown",
   "metadata": {},
   "source": [
    "## training the classifier with corpus"
   ]
  },
  {
   "cell_type": "code",
   "execution_count": 74,
   "metadata": {
    "collapsed": false
   },
   "outputs": [],
   "source": [
    "model = naive(training_corpus) "
   ]
  },
  {
   "cell_type": "code",
   "execution_count": 75,
   "metadata": {
    "collapsed": false
   },
   "outputs": [
    {
     "name": "stdout",
     "output_type": "stream",
     "text": [
      "eat\n"
     ]
    }
   ],
   "source": [
    "print(model.classify(\"Their dishes are amazing.\"))"
   ]
  },
  {
   "cell_type": "code",
   "execution_count": 76,
   "metadata": {
    "collapsed": false
   },
   "outputs": [
    {
     "name": "stdout",
     "output_type": "stream",
     "text": [
      "eat\n"
     ]
    }
   ],
   "source": [
    "print(model.classify(\"let's not have german food\"))"
   ]
  },
  {
   "cell_type": "code",
   "execution_count": 77,
   "metadata": {
    "collapsed": false
   },
   "outputs": [
    {
     "name": "stdout",
     "output_type": "stream",
     "text": [
      "0.8\n"
     ]
    }
   ],
   "source": [
    "print(model.accuracy(test_corpus))"
   ]
  },
  {
   "cell_type": "code",
   "execution_count": null,
   "metadata": {
    "collapsed": true
   },
   "outputs": [],
   "source": []
  }
 ],
 "metadata": {
  "kernelspec": {
   "display_name": "Python 3",
   "language": "python",
   "name": "python3"
  },
  "language_info": {
   "codemirror_mode": {
    "name": "ipython",
    "version": 3
   },
   "file_extension": ".py",
   "mimetype": "text/x-python",
   "name": "python",
   "nbconvert_exporter": "python",
   "pygments_lexer": "ipython3",
   "version": "3.5.2"
  }
 },
 "nbformat": 4,
 "nbformat_minor": 0
}
